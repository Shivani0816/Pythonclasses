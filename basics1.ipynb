{
 "cells": [
  {
   "cell_type": "code",
   "execution_count": 13,
   "id": "a0b77205-8f36-4d20-a9e7-4d9df35317be",
   "metadata": {},
   "outputs": [
    {
     "name": "stdout",
     "output_type": "stream",
     "text": [
      "python\n"
     ]
    }
   ],
   "source": [
    "name='python'\n",
    "print(name)"
   ]
  },
  {
   "cell_type": "code",
   "execution_count": 15,
   "id": "e70a8b84-da1e-47f4-a670-b30a1b8f490c",
   "metadata": {},
   "outputs": [
    {
     "name": "stdout",
     "output_type": "stream",
     "text": [
      "l\n"
     ]
    }
   ],
   "source": [
    "a='hello world!'\n",
    "print(a[3])"
   ]
  },
  {
   "cell_type": "code",
   "execution_count": 17,
   "id": "58a52d73-a6bb-4eff-a934-03da8628061b",
   "metadata": {},
   "outputs": [
    {
     "name": "stdout",
     "output_type": "stream",
     "text": [
      "'yes',it is existed\n"
     ]
    }
   ],
   "source": [
    "txt='classes of machine learning'\n",
    "if 'classes' in txt:\n",
    "    print(\"'yes',it is existed\")"
   ]
  },
  {
   "cell_type": "code",
   "execution_count": 21,
   "id": "d772af59-4441-4c45-9135-fb6cd7ff6e45",
   "metadata": {},
   "outputs": [
    {
     "name": "stdout",
     "output_type": "stream",
     "text": [
      "niha\n",
      "rithu\n",
      "potti\n",
      "suma\n"
     ]
    }
   ],
   "source": [
    "friends='niha','rithu','potti','suma'\n",
    "for i in friends:\n",
    "    print(i)"
   ]
  },
  {
   "cell_type": "code",
   "execution_count": 23,
   "id": "049659cb-9627-46af-8016-ee58a40feea3",
   "metadata": {},
   "outputs": [
    {
     "name": "stdout",
     "output_type": "stream",
     "text": [
      "program\n",
      "<class 'str'>\n"
     ]
    }
   ],
   "source": [
    "string_0='program'\n",
    "print(string_0)\n",
    "print(type(string_0))"
   ]
  },
  {
   "cell_type": "code",
   "execution_count": 25,
   "id": "d741241c-0407-419c-8f0e-bb5e478432d7",
   "metadata": {},
   "outputs": [
    {
     "name": "stdout",
     "output_type": "stream",
     "text": [
      "[1, 2, 3, 4]\n",
      "<class 'list'>\n"
     ]
    }
   ],
   "source": [
    "a=[1,2,3,4]\n",
    "print(a)\n",
    "print(type(a))"
   ]
  },
  {
   "cell_type": "code",
   "execution_count": 27,
   "id": "1c8c775a-d42a-408c-98b3-a01f4954ec5a",
   "metadata": {},
   "outputs": [
    {
     "name": "stdout",
     "output_type": "stream",
     "text": [
      "(1, 2, 3)\n",
      "<class 'tuple'>\n"
     ]
    }
   ],
   "source": [
    "a=1,2,3\n",
    "print(a)\n",
    "print(type(a))"
   ]
  },
  {
   "cell_type": "code",
   "execution_count": 29,
   "id": "1b045771-a874-4171-83b3-e64b1cf810c4",
   "metadata": {},
   "outputs": [
    {
     "name": "stdout",
     "output_type": "stream",
     "text": [
      "15\n"
     ]
    }
   ],
   "source": [
    "a='niharikashivani'\n",
    "print(len(a))"
   ]
  },
  {
   "cell_type": "code",
   "execution_count": 38,
   "id": "fe47abcf-959c-4e07-a87a-bc0c6a9d7715",
   "metadata": {},
   "outputs": [
    {
     "name": "stdout",
     "output_type": "stream",
     "text": [
      "NIHARIKA\n"
     ]
    }
   ],
   "source": [
    "a='niharika'\n",
    "print(a.upper())"
   ]
  },
  {
   "cell_type": "code",
   "execution_count": 42,
   "id": "e7694542-5c67-4de9-a3bc-8f012e165d55",
   "metadata": {},
   "outputs": [
    {
     "name": "stdout",
     "output_type": "stream",
     "text": [
      "False\n"
     ]
    }
   ],
   "source": [
    "a=' python code'\n",
    "print(a.endswith('python'))"
   ]
  },
  {
   "cell_type": "code",
   "execution_count": 44,
   "id": "a0088600-bee7-4ea6-a5e8-bbcdc81ef416",
   "metadata": {},
   "outputs": [
    {
     "name": "stdout",
     "output_type": "stream",
     "text": [
      "True\n"
     ]
    }
   ],
   "source": [
    "a='nirman org'\n",
    "print(a.startswith('nirman'))"
   ]
  },
  {
   "cell_type": "code",
   "execution_count": 46,
   "id": "bf5e2d33-3abd-47e4-9820-dd50ecfa9d28",
   "metadata": {},
   "outputs": [
    {
     "name": "stdout",
     "output_type": "stream",
     "text": [
      "alpha beta\n"
     ]
    }
   ],
   "source": [
    "a='ALPHA BETA'\n",
    "print(a.lower())"
   ]
  },
  {
   "cell_type": "code",
   "execution_count": null,
   "id": "03e40558-c578-4dd5-b93e-981748b97b8c",
   "metadata": {},
   "outputs": [],
   "source": []
  }
 ],
 "metadata": {
  "kernelspec": {
   "display_name": "Python 3 (ipykernel)",
   "language": "python",
   "name": "python3"
  },
  "language_info": {
   "codemirror_mode": {
    "name": "ipython",
    "version": 3
   },
   "file_extension": ".py",
   "mimetype": "text/x-python",
   "name": "python",
   "nbconvert_exporter": "python",
   "pygments_lexer": "ipython3",
   "version": "3.12.4"
  }
 },
 "nbformat": 4,
 "nbformat_minor": 5
}
