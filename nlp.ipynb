{
 "cells": [
  {
   "cell_type": "code",
   "execution_count": 156,
   "id": "8fdd5f38-83df-4004-97e4-03387f6539e5",
   "metadata": {},
   "outputs": [],
   "source": [
    "import re\n",
    "import nltk\n",
    "from nltk.corpus import stopwords\n",
    "from nltk.tokenize import word_tokenize, sent_tokenize\n",
    "from nltk.stem import PorterStemmer, WordNetLemmatizer\n",
    "from nltk import pos_tag, ne_chunk"
   ]
  },
  {
   "cell_type": "code",
   "execution_count": 157,
   "id": "ff6e626b-f097-4690-9936-3674bd778e28",
   "metadata": {},
   "outputs": [
    {
     "name": "stderr",
     "output_type": "stream",
     "text": [
      "[nltk_data] Downloading package punkt to\n",
      "[nltk_data]     C:\\Users\\nirma\\AppData\\Roaming\\nltk_data...\n",
      "[nltk_data]   Package punkt is already up-to-date!\n",
      "[nltk_data] Downloading package stopwords to\n",
      "[nltk_data]     C:\\Users\\nirma\\AppData\\Roaming\\nltk_data...\n",
      "[nltk_data]   Package stopwords is already up-to-date!\n",
      "[nltk_data] Error loading average_perceptron_tagger: Package\n",
      "[nltk_data]     'average_perceptron_tagger' not found in index\n",
      "[nltk_data] Downloading package wordnet to\n",
      "[nltk_data]     C:\\Users\\nirma\\AppData\\Roaming\\nltk_data...\n",
      "[nltk_data]   Package wordnet is already up-to-date!\n",
      "[nltk_data] Downloading package maxent_ne_chunker to\n",
      "[nltk_data]     C:\\Users\\nirma\\AppData\\Roaming\\nltk_data...\n",
      "[nltk_data]   Package maxent_ne_chunker is already up-to-date!\n",
      "[nltk_data] Downloading package words to\n",
      "[nltk_data]     C:\\Users\\nirma\\AppData\\Roaming\\nltk_data...\n",
      "[nltk_data]   Package words is already up-to-date!\n",
      "[nltk_data] Downloading package averaged_perceptron_tagger to\n",
      "[nltk_data]     C:\\Users\\nirma\\AppData\\Roaming\\nltk_data...\n",
      "[nltk_data]   Unzipping taggers\\averaged_perceptron_tagger.zip.\n"
     ]
    },
    {
     "data": {
      "text/plain": [
       "True"
      ]
     },
     "execution_count": 157,
     "metadata": {},
     "output_type": "execute_result"
    }
   ],
   "source": [
    "nltk.download('punkt')\n",
    "nltk.download('stopwords')\n",
    "nltk.download('average_perceptron_tagger')\n",
    "nltk.download('wordnet')\n",
    "nltk.download('maxent_ne_chunker')\n",
    "nltk.download('words')\n",
    "nltk.download('averaged_perceptron_tagger')"
   ]
  },
  {
   "cell_type": "markdown",
   "id": "17450bd9-d0ef-4728-bd77-390cc2c9d275",
   "metadata": {},
   "source": []
  },
  {
   "cell_type": "code",
   "execution_count": 159,
   "id": "b2363f16-d52f-4946-8409-d6123e708be4",
   "metadata": {},
   "outputs": [],
   "source": [
    "stemmer = PorterStemmer()"
   ]
  },
  {
   "cell_type": "code",
   "execution_count": 160,
   "id": "076814cd-88fa-42c3-a393-40a251d53e61",
   "metadata": {},
   "outputs": [
    {
     "data": {
      "text/plain": [
       "'final'"
      ]
     },
     "execution_count": 160,
     "metadata": {},
     "output_type": "execute_result"
    }
   ],
   "source": [
    "stemmer.stem(\"finally\")"
   ]
  },
  {
   "cell_type": "code",
   "execution_count": 161,
   "id": "313005d5-657f-42fd-a4b0-fd341fad01db",
   "metadata": {},
   "outputs": [],
   "source": [
    "lemmatizer =WordNetLemmatizer()"
   ]
  },
  {
   "cell_type": "code",
   "execution_count": 162,
   "id": "c649a774-b93e-46e5-8e1f-b2d5e71f9a09",
   "metadata": {},
   "outputs": [
    {
     "data": {
      "text/plain": [
       "'finally'"
      ]
     },
     "execution_count": 162,
     "metadata": {},
     "output_type": "execute_result"
    }
   ],
   "source": [
    "lemmatizer.lemmatize(\"finally\")"
   ]
  },
  {
   "cell_type": "code",
   "execution_count": 163,
   "id": "79d513ae-f919-4456-beb8-4a5ea4098342",
   "metadata": {},
   "outputs": [],
   "source": [
    "text = \"FOOD IS GOOD\""
   ]
  },
  {
   "cell_type": "code",
   "execution_count": 164,
   "id": "d437a77a-17a6-4cfe-859f-b5ca0f961515",
   "metadata": {},
   "outputs": [],
   "source": [
    "def lowercase_text(text):\n",
    "    return text.lower()"
   ]
  },
  {
   "cell_type": "code",
   "execution_count": 165,
   "id": "f88dbe7d-f867-4669-aed9-ca75c6d67a53",
   "metadata": {},
   "outputs": [],
   "source": [
    "def remove_puntuation(text):\n",
    "    return re.sub(r'[^\\w\\s]','',text)"
   ]
  },
  {
   "cell_type": "code",
   "execution_count": 166,
   "id": "650b47fa-b7ce-456c-9074-935416e5e1b3",
   "metadata": {},
   "outputs": [],
   "source": [
    "def tokenize_text(text):\n",
    "    return word_tokenize(text)"
   ]
  },
  {
   "cell_type": "code",
   "execution_count": 167,
   "id": "28d4bdc8-b307-4a87-acfa-79d9ae2a33cc",
   "metadata": {},
   "outputs": [],
   "source": [
    "def remove_stopwords(tokens):\n",
    "    stop_words = set(stopwords.words('english'))\n",
    "    return [word for word in tokens if word not in stop_words]"
   ]
  },
  {
   "cell_type": "code",
   "execution_count": 168,
   "id": "66a0df92-cfa2-4ac2-be7d-b6470ca47e50",
   "metadata": {},
   "outputs": [],
   "source": [
    "def stem_words(tokens):\n",
    "    stemmer=PorterStemmer()\n",
    "    return [stemmer.stem(word) for word in tokens]"
   ]
  },
  {
   "cell_type": "code",
   "execution_count": 169,
   "id": "e8545a82-6d6b-414f-b9dc-be9524ad783a",
   "metadata": {},
   "outputs": [],
   "source": [
    "def lemmatize_words(tokens):\n",
    "    lemmatizer = WordNetLemmatizer()\n",
    "    return [lemmatizer.lemmatize(word) for word in tokens]"
   ]
  },
  {
   "cell_type": "code",
   "execution_count": 170,
   "id": "8f3e23d8-4c2f-4200-b36e-801e1d8b15a8",
   "metadata": {},
   "outputs": [],
   "source": [
    "def pos_tagging(tokens):\n",
    "    return pos_tag(tokens)"
   ]
  },
  {
   "cell_type": "code",
   "execution_count": 171,
   "id": "8199bea3-57f6-49b6-8f88-174127714d39",
   "metadata": {},
   "outputs": [],
   "source": [
    "def named_entity_recognition(text):\n",
    "    tokens = tokenize_text(text)\n",
    "    pos_tags = pos_tagging(tokens)\n",
    "    return ne_chunk(pos_tags)"
   ]
  },
  {
   "cell_type": "code",
   "execution_count": 190,
   "id": "c28d0c4a-3007-451c-9cf8-2f931226b183",
   "metadata": {},
   "outputs": [],
   "source": [
    "text_lower = lowercase_text(text)\n",
    "text_clean = remove_puntuation(text_lower)\n",
    "tokens = tokenize_text(text_clean)\n",
    "tokens_no_stopwords = remove_stopwords(tokens)\n",
    "tokens_stemmed = stem_words(tokens_no_stopwords)\n",
    "tokens_lemmatized = lemmatize_words(tokens_no_stopwords)\n",
    "pos_tags = pos_tagging(tokens_no_stopwords)\n",
    "named_entities = named_entity_recognition(text)"
   ]
  },
  {
   "cell_type": "code",
   "execution_count": 194,
   "id": "ab8d180f-3047-4606-856b-7c671bed211c",
   "metadata": {},
   "outputs": [
    {
     "name": "stdout",
     "output_type": "stream",
     "text": [
      "Lowercased Text:  food is good\n",
      "Cleaned Text:  food is good\n",
      "Tokens: ['food', 'is', 'good']\n",
      "Tokens without Stopwords:  ['food', 'good']\n",
      "Stemmed Tokens:  ['food', 'good']\n",
      "Lemmatized Tokens:  ['food', 'good']\n",
      "Part-of-Speech Tags: [('food', 'NN'), ('good', 'NN')]\n",
      "Named Entities: (S (ORGANIZATION FOOD/NNP) IS/NNP GOOD/NNP)\n"
     ]
    }
   ],
   "source": [
    "print(\"Lowercased Text: \", text_lower) \n",
    "print(\"Cleaned Text: \", text_clean) \n",
    "print(\"Tokens:\", tokens) \n",
    "print(\"Tokens without Stopwords: \", tokens_no_stopwords) \n",
    "print(\"Stemmed Tokens: \", tokens_stemmed)\n",
    "print(\"Lemmatized Tokens: \", tokens_lemmatized) \n",
    "print(\"Part-of-Speech Tags:\", pos_tags) \n",
    "print(\"Named Entities:\", named_entities)"
   ]
  },
  {
   "cell_type": "code",
   "execution_count": null,
   "id": "8dac7052-7170-427b-9a3f-79fe545dfd26",
   "metadata": {},
   "outputs": [],
   "source": []
  }
 ],
 "metadata": {
  "kernelspec": {
   "display_name": "Python 3 (ipykernel)",
   "language": "python",
   "name": "python3"
  },
  "language_info": {
   "codemirror_mode": {
    "name": "ipython",
    "version": 3
   },
   "file_extension": ".py",
   "mimetype": "text/x-python",
   "name": "python",
   "nbconvert_exporter": "python",
   "pygments_lexer": "ipython3",
   "version": "3.12.4"
  }
 },
 "nbformat": 4,
 "nbformat_minor": 5
}
